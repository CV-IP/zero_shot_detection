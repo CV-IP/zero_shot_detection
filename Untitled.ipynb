{
 "cells": [
  {
   "cell_type": "code",
   "execution_count": 2,
   "metadata": {},
   "outputs": [],
   "source": [
    "import numpy as np\n",
    "import torch\n",
    "import pandas as pd \n",
    "from torch.utils.data import Dataset, DataLoader\n",
    "from util import *\n",
    "# from attributes import loadCOCOAtt, loadVOCAtt\n",
    "import torch.optim as optim\n",
    "from numpy import linalg as LA\n",
    "from tqdm import tqdm\n",
    "from mmdetection.splits import get_unseen_class_ids, get_unseen_class_labels ,get_seen_class_ids\n"
   ]
  },
  {
   "cell_type": "code",
   "execution_count": 3,
   "metadata": {},
   "outputs": [],
   "source": [
    "split = '48_17'\n",
    "labels_path = f\"/raid/mun/codes/zero_shot_detection/data/coco/seen{split}_labels.npy\"\n",
    "feats_path = f\"/raid/mun/codes/zero_shot_detection/data/coco/seen{split}_feats.npy\"\n",
    "seen_ids_with_bg = np.concatenate(([0], get_seen_class_ids('coco', split)))\n",
    "\n",
    "class FeaturesCls(Dataset):\n",
    "    \n",
    "    def __init__(self):\n",
    "        self.loadRealFeats()\n",
    "        self.labels_to_ids = {label:i for i, label in enumerate(seen_ids_with_bg)}\n",
    "\n",
    "    def loadRealFeats(self):\n",
    "        self.features = np.load(feats_path)\n",
    "        self.labels = np.load(labels_path)\n",
    "\n",
    "#         labels = [labels_to_ids[l] for l in dataset.labels]\n",
    "    def __getitem__(self, idx):\n",
    "        batch_feature = self.features[idx]\n",
    "        batch_label = self.labels[idx]\n",
    "        batch_label = self.labels_to_ids[batch_label]\n",
    "        return batch_feature, batch_label\n",
    "\n",
    "    def __len__(self):\n",
    "        return len(self.labels)\n"
   ]
  },
  {
   "cell_type": "code",
   "execution_count": 4,
   "metadata": {},
   "outputs": [
    {
     "data": {
      "text/plain": [
       "31543296"
      ]
     },
     "execution_count": 4,
     "metadata": {},
     "output_type": "execute_result"
    }
   ],
   "source": [
    "dataset = FeaturesCls()\n",
    "# datasettest = FeaturesClsVal()\n",
    "len(dataset)"
   ]
  },
  {
   "cell_type": "code",
   "execution_count": 5,
   "metadata": {},
   "outputs": [],
   "source": [
    "dataloader = DataLoader(dataset=dataset, batch_size=64, num_workers=4, shuffle=True, pin_memory=True)\n",
    "# dataloaderval = DataLoader(dataset=datasettest, batch_size=20*64, num_workers=4, shuffle=True, pin_memory=True)"
   ]
  },
  {
   "cell_type": "code",
   "execution_count": 6,
   "metadata": {},
   "outputs": [],
   "source": [
    "def val(dataloader, classifier, criterion, epoch, verbose=\"Val\"):\n",
    "    preds_all = []\n",
    "    gt_all = []\n",
    "    loss_epoch = 0\n",
    "    classifier.eval()\n",
    "    for ite, (in_feat, in_label)  in enumerate(dataloader):\n",
    "        in_feat = in_feat.cuda()\n",
    "        in_label = in_label.cuda()\n",
    "        preds = classifier(feats=in_feat, classifier_only=True)\n",
    "\n",
    "        xx=Wu.mm(Ws.transpose(1,0))\n",
    "        preds = preds.mm(xx.transpose(1,0))\n",
    "        preds_all.append(preds.data.cpu().numpy())\n",
    "        gt_all.append(in_label.data.cpu().numpy())\n",
    "\n",
    "        loss = criterion(preds, in_label)\n",
    "        loss_epoch+=loss.item()\n",
    "#         if ite % 100 == 99:\n",
    "#             print(f'{verbose}   Epoch [{epoch+1:02}/{nepoch_cls}] Iter [{ite:05}/{len(dataloader)}]{ite/len(dataloader) * 100:02.3f}% Loss: {loss_epoch/ite :0.4f}')\n",
    " \n",
    "    preds_all = np.concatenate(preds_all)\n",
    "    gt_all = np.concatenate(gt_all)\n",
    "    return compute_per_class_acc(gt_all, preds_all, verbose=verbose)\n",
    "\n",
    "def compute_per_class_acc(test_label, predicted_label, verbose=\"Val\"):\n",
    "    class_labels = np.unique(test_label)\n",
    "    acc_per_class = torch.FloatTensor(len(class_labels)).fill_(0)\n",
    "    predicted_label = torch.max(torch.from_numpy(predicted_label), 1)[1]\n",
    "    test_label = torch.from_numpy(test_label)\n",
    "\n",
    "    for index, label in enumerate(class_labels):\n",
    "        idx = (test_label == label)\n",
    "        acc_per_class[index] = torch.sum(test_label[idx]==predicted_label[idx]).float() / torch.sum(idx).float()\n",
    "\n",
    "    c_mat = confusion_matrix(test_label, predicted_label)\n",
    "    for index, label in enumerate(class_labels):\n",
    "        print(f\"[{verbose}] {label}: {acc_per_class[index]:0.4f}\")\n",
    "    \n",
    "    \n",
    "    acc = acc_per_class.mean()\n",
    "    print(f\"\\n------------------------\\n[{verbose}] Mean all: {acc:0.4f}\")\n",
    "    print(f\"[{verbose}] Mean fb: {acc_per_class[1:].mean():0.4f}\\n\")\n",
    "\n",
    "    return acc, acc_per_class"
   ]
  },
  {
   "cell_type": "code",
   "execution_count": 7,
   "metadata": {},
   "outputs": [],
   "source": [
    "class ClsModel2(torch.nn.Module):\n",
    "    def __init__(self, att, voc):\n",
    "        super(ClsModel2, self).__init__()\n",
    "#         self.D = voc.type(torch.float).cuda()\n",
    "        self.W = att.type(torch.float).cuda()\n",
    "        self.fc1 = nn.Linear(in_features=1024, out_features=300, bias=True)\n",
    "#         self.M = torch.nn.Parameter(data=torch.cuda.FloatTensor(self.W.shape[1], self.D.shape[0]), requires_grad=True).cuda()\n",
    "#         self.W.requires_grad = False\n",
    "#         self.D.requires_grad = False\n",
    "\n",
    "    def forward(self, feats=None, classifier_only=False):\n",
    "        f = self.fc1(feats)\n",
    "        x = f.mm(self.W.transpose(1,0))\n",
    "        \n",
    "#         x = f.mm(torch.tanh(self.W.mm(self.M).mm(self.D)).transpose(1,0))\n",
    "        return x\n"
   ]
  },
  {
   "cell_type": "code",
   "execution_count": null,
   "metadata": {},
   "outputs": [],
   "source": [
    "\n",
    "\n"
   ]
  },
  {
   "cell_type": "code",
   "execution_count": 8,
   "metadata": {},
   "outputs": [],
   "source": [
    "# axis = 0\n",
    "att = np.load('/raid/mun/codes/zero_shot_detection/zsd/MSCOCO/coco_fasttext_synonyms.npy')\n",
    "voc = np.load('/raid/mun/codes/zero_shot_detection/zsd/VOC/voc_fasttext.npy')\n",
    "# if axis == 0:\n",
    "att/=LA.norm(att, ord=2)\n",
    "voc/=LA.norm(voc, ord=2)\n",
    "# else:\n",
    "#     att/=LA.norm(att, ord=2, axis=1)[:, None]\n",
    "#     voc/=LA.norm(voc, ord=2, axis=1)[:, None]\n",
    "seen_ids_with_bg = np.concatenate(([0], get_seen_class_ids('coco', split)))\n",
    "unseen_ids = get_unseen_class_ids('coco', split)\n",
    "att_s = att[seen_ids_with_bg]\n",
    "att_u = att[unseen_ids]\n",
    "Ws = torch.from_numpy(att_s).type(torch.float).cuda()\n",
    "Wu = torch.from_numpy(att_u).type(torch.float).cuda()\n",
    "\n",
    "model = ClsModel2(torch.from_numpy(att_s), torch.from_numpy(voc))\n",
    "model.cuda()\n",
    "criterion = nn.CrossEntropyLoss()\n",
    "optimizer = optim.Adam(model.parameters(), lr=0.0001, betas=(0.5, 0.999))"
   ]
  },
  {
   "cell_type": "code",
   "execution_count": 9,
   "metadata": {},
   "outputs": [
    {
     "data": {
      "text/plain": [
       "(66,)"
      ]
     },
     "execution_count": 9,
     "metadata": {},
     "output_type": "execute_result"
    }
   ],
   "source": [
    "seen_ids_with_bg.shape"
   ]
  },
  {
   "cell_type": "code",
   "execution_count": null,
   "metadata": {},
   "outputs": [],
   "source": []
  },
  {
   "cell_type": "code",
   "execution_count": 10,
   "metadata": {},
   "outputs": [],
   "source": [
    "# dataset.labels = labels"
   ]
  },
  {
   "cell_type": "code",
   "execution_count": 11,
   "metadata": {
    "scrolled": true
   },
   "outputs": [
    {
     "name": "stderr",
     "output_type": "stream",
     "text": [
      "  1%|          | 5058/492864 [00:19<21:47, 373.03it/s]  "
     ]
    },
    {
     "name": "stdout",
     "output_type": "stream",
     "text": [
      "Cls Train Epoch [01/2] Iter [04999/492864]1.014% Loss: 0.2259\n"
     ]
    },
    {
     "name": "stderr",
     "output_type": "stream",
     "text": [
      "  2%|▏         | 10086/492864 [00:33<19:44, 407.49it/s]"
     ]
    },
    {
     "name": "stdout",
     "output_type": "stream",
     "text": [
      "Cls Train Epoch [01/2] Iter [09999/492864]2.029% Loss: 0.1806\n"
     ]
    },
    {
     "name": "stderr",
     "output_type": "stream",
     "text": [
      "  3%|▎         | 15038/492864 [00:48<23:10, 343.60it/s]"
     ]
    },
    {
     "name": "stdout",
     "output_type": "stream",
     "text": [
      "Cls Train Epoch [01/2] Iter [14999/492864]3.043% Loss: 0.1623\n"
     ]
    },
    {
     "name": "stderr",
     "output_type": "stream",
     "text": [
      "  4%|▍         | 20050/492864 [01:11<38:25, 205.12it/s]  "
     ]
    },
    {
     "name": "stdout",
     "output_type": "stream",
     "text": [
      "Cls Train Epoch [01/2] Iter [19999/492864]4.058% Loss: 0.1516\n"
     ]
    },
    {
     "name": "stderr",
     "output_type": "stream",
     "text": [
      "  5%|▌         | 25018/492864 [01:39<34:08, 228.33it/s]  "
     ]
    },
    {
     "name": "stdout",
     "output_type": "stream",
     "text": [
      "Cls Train Epoch [01/2] Iter [24999/492864]5.072% Loss: 0.1449\n"
     ]
    },
    {
     "name": "stderr",
     "output_type": "stream",
     "text": [
      "  6%|▌         | 30014/492864 [02:06<28:07, 274.26it/s]  "
     ]
    },
    {
     "name": "stdout",
     "output_type": "stream",
     "text": [
      "Cls Train Epoch [01/2] Iter [29999/492864]6.087% Loss: 0.1399\n"
     ]
    },
    {
     "name": "stderr",
     "output_type": "stream",
     "text": [
      "  7%|▋         | 35018/492864 [02:29<36:31, 208.90it/s]  "
     ]
    },
    {
     "name": "stdout",
     "output_type": "stream",
     "text": [
      "Cls Train Epoch [01/2] Iter [34999/492864]7.101% Loss: 0.1356\n"
     ]
    },
    {
     "name": "stderr",
     "output_type": "stream",
     "text": [
      "  8%|▊         | 40022/492864 [02:58<46:32, 162.14it/s]  "
     ]
    },
    {
     "name": "stdout",
     "output_type": "stream",
     "text": [
      "Cls Train Epoch [01/2] Iter [39999/492864]8.116% Loss: 0.1323\n"
     ]
    },
    {
     "name": "stderr",
     "output_type": "stream",
     "text": [
      "  9%|▉         | 45031/492864 [03:27<23:28, 317.95it/s]  "
     ]
    },
    {
     "name": "stdout",
     "output_type": "stream",
     "text": [
      "Cls Train Epoch [01/2] Iter [44999/492864]9.130% Loss: 0.1297\n"
     ]
    },
    {
     "name": "stderr",
     "output_type": "stream",
     "text": [
      " 10%|█         | 50041/492864 [03:48<26:47, 275.50it/s]  "
     ]
    },
    {
     "name": "stdout",
     "output_type": "stream",
     "text": [
      "Cls Train Epoch [01/2] Iter [49999/492864]10.145% Loss: 0.1276\n"
     ]
    },
    {
     "name": "stderr",
     "output_type": "stream",
     "text": [
      " 11%|█         | 55013/492864 [04:15<43:46, 166.73it/s]  "
     ]
    },
    {
     "name": "stdout",
     "output_type": "stream",
     "text": [
      "Cls Train Epoch [01/2] Iter [54999/492864]11.159% Loss: 0.1258\n"
     ]
    },
    {
     "name": "stderr",
     "output_type": "stream",
     "text": [
      " 12%|█▏        | 60044/492864 [04:45<45:54, 157.14it/s]  "
     ]
    },
    {
     "name": "stdout",
     "output_type": "stream",
     "text": [
      "Cls Train Epoch [01/2] Iter [59999/492864]12.174% Loss: 0.1243\n"
     ]
    },
    {
     "name": "stderr",
     "output_type": "stream",
     "text": [
      " 13%|█▎        | 65037/492864 [05:07<24:24, 292.18it/s]  "
     ]
    },
    {
     "name": "stdout",
     "output_type": "stream",
     "text": [
      "Cls Train Epoch [01/2] Iter [64999/492864]13.188% Loss: 0.1228\n"
     ]
    },
    {
     "name": "stderr",
     "output_type": "stream",
     "text": [
      " 14%|█▍        | 70051/492864 [05:30<32:12, 218.83it/s]"
     ]
    },
    {
     "name": "stdout",
     "output_type": "stream",
     "text": [
      "Cls Train Epoch [01/2] Iter [69999/492864]14.202% Loss: 0.1214\n"
     ]
    },
    {
     "name": "stderr",
     "output_type": "stream",
     "text": [
      " 15%|█▌        | 75017/492864 [05:57<33:19, 208.99it/s]  "
     ]
    },
    {
     "name": "stdout",
     "output_type": "stream",
     "text": [
      "Cls Train Epoch [01/2] Iter [74999/492864]15.217% Loss: 0.1203\n"
     ]
    },
    {
     "name": "stderr",
     "output_type": "stream",
     "text": [
      " 16%|█▌        | 80045/492864 [06:19<30:43, 223.91it/s]  "
     ]
    },
    {
     "name": "stdout",
     "output_type": "stream",
     "text": [
      "Cls Train Epoch [01/2] Iter [79999/492864]16.231% Loss: 0.1192\n"
     ]
    },
    {
     "name": "stderr",
     "output_type": "stream",
     "text": [
      " 17%|█▋        | 85016/492864 [06:40<42:51, 158.59it/s]  "
     ]
    },
    {
     "name": "stdout",
     "output_type": "stream",
     "text": [
      "Cls Train Epoch [01/2] Iter [84999/492864]17.246% Loss: 0.1182\n"
     ]
    },
    {
     "name": "stderr",
     "output_type": "stream",
     "text": [
      " 18%|█▊        | 90024/492864 [07:08<42:00, 159.85it/s]  "
     ]
    },
    {
     "name": "stdout",
     "output_type": "stream",
     "text": [
      "Cls Train Epoch [01/2] Iter [89999/492864]18.260% Loss: 0.1173\n"
     ]
    },
    {
     "name": "stderr",
     "output_type": "stream",
     "text": [
      " 19%|█▉        | 95051/492864 [07:35<27:07, 244.50it/s]  "
     ]
    },
    {
     "name": "stdout",
     "output_type": "stream",
     "text": [
      "Cls Train Epoch [01/2] Iter [94999/492864]19.275% Loss: 0.1166\n"
     ]
    },
    {
     "name": "stderr",
     "output_type": "stream",
     "text": [
      " 20%|██        | 100055/492864 [07:58<21:54, 298.72it/s] "
     ]
    },
    {
     "name": "stdout",
     "output_type": "stream",
     "text": [
      "Cls Train Epoch [01/2] Iter [99999/492864]20.289% Loss: 0.1157\n"
     ]
    },
    {
     "name": "stderr",
     "output_type": "stream",
     "text": [
      " 21%|██▏       | 105048/492864 [08:26<32:14, 200.49it/s]  "
     ]
    },
    {
     "name": "stdout",
     "output_type": "stream",
     "text": [
      "Cls Train Epoch [01/2] Iter [104999/492864]21.304% Loss: 0.1150\n"
     ]
    },
    {
     "name": "stderr",
     "output_type": "stream",
     "text": [
      " 22%|██▏       | 110035/492864 [08:51<26:06, 244.32it/s]  "
     ]
    },
    {
     "name": "stdout",
     "output_type": "stream",
     "text": [
      "Cls Train Epoch [01/2] Iter [109999/492864]22.318% Loss: 0.1143\n"
     ]
    },
    {
     "name": "stderr",
     "output_type": "stream",
     "text": [
      " 23%|██▎       | 115031/492864 [09:13<26:14, 239.94it/s]"
     ]
    },
    {
     "name": "stdout",
     "output_type": "stream",
     "text": [
      "Cls Train Epoch [01/2] Iter [114999/492864]23.333% Loss: 0.1137\n"
     ]
    },
    {
     "name": "stderr",
     "output_type": "stream",
     "text": [
      " 24%|██▍       | 120027/492864 [09:39<34:39, 179.29it/s]"
     ]
    },
    {
     "name": "stdout",
     "output_type": "stream",
     "text": [
      "Cls Train Epoch [01/2] Iter [119999/492864]24.347% Loss: 0.1132\n"
     ]
    },
    {
     "name": "stderr",
     "output_type": "stream",
     "text": [
      " 25%|██▌       | 125030/492864 [10:10<35:55, 170.66it/s]  "
     ]
    },
    {
     "name": "stdout",
     "output_type": "stream",
     "text": [
      "Cls Train Epoch [01/2] Iter [124999/492864]25.362% Loss: 0.1127\n"
     ]
    },
    {
     "name": "stderr",
     "output_type": "stream",
     "text": [
      " 26%|██▋       | 130035/492864 [10:32<30:09, 200.56it/s] "
     ]
    },
    {
     "name": "stdout",
     "output_type": "stream",
     "text": [
      "Cls Train Epoch [01/2] Iter [129999/492864]26.376% Loss: 0.1122\n"
     ]
    },
    {
     "name": "stderr",
     "output_type": "stream",
     "text": [
      " 27%|██▋       | 135015/492864 [10:55<34:22, 173.54it/s]"
     ]
    },
    {
     "name": "stdout",
     "output_type": "stream",
     "text": [
      "Cls Train Epoch [01/2] Iter [134999/492864]27.391% Loss: 0.1117\n"
     ]
    },
    {
     "name": "stderr",
     "output_type": "stream",
     "text": [
      " 28%|██▊       | 140023/492864 [11:27<28:08, 208.93it/s]"
     ]
    },
    {
     "name": "stdout",
     "output_type": "stream",
     "text": [
      "Cls Train Epoch [01/2] Iter [139999/492864]28.405% Loss: 0.1113\n"
     ]
    },
    {
     "name": "stderr",
     "output_type": "stream",
     "text": [
      " 29%|██▉       | 145024/492864 [11:52<33:36, 172.49it/s]"
     ]
    },
    {
     "name": "stdout",
     "output_type": "stream",
     "text": [
      "Cls Train Epoch [01/2] Iter [144999/492864]29.420% Loss: 0.1108\n"
     ]
    },
    {
     "name": "stderr",
     "output_type": "stream",
     "text": [
      " 30%|███       | 150015/492864 [12:18<31:13, 182.96it/s]"
     ]
    },
    {
     "name": "stdout",
     "output_type": "stream",
     "text": [
      "Cls Train Epoch [01/2] Iter [149999/492864]30.434% Loss: 0.1104\n"
     ]
    },
    {
     "name": "stderr",
     "output_type": "stream",
     "text": [
      " 31%|███▏      | 155018/492864 [12:49<42:16, 133.20it/s] "
     ]
    },
    {
     "name": "stdout",
     "output_type": "stream",
     "text": [
      "Cls Train Epoch [01/2] Iter [154999/492864]31.449% Loss: 0.1101\n"
     ]
    },
    {
     "name": "stderr",
     "output_type": "stream",
     "text": [
      " 32%|███▏      | 160016/492864 [13:13<29:29, 188.07it/s]"
     ]
    },
    {
     "name": "stdout",
     "output_type": "stream",
     "text": [
      "Cls Train Epoch [01/2] Iter [159999/492864]32.463% Loss: 0.1097\n"
     ]
    },
    {
     "name": "stderr",
     "output_type": "stream",
     "text": [
      " 33%|███▎      | 165033/492864 [13:41<29:52, 182.86it/s]"
     ]
    },
    {
     "name": "stdout",
     "output_type": "stream",
     "text": [
      "Cls Train Epoch [01/2] Iter [164999/492864]33.478% Loss: 0.1093\n"
     ]
    },
    {
     "name": "stderr",
     "output_type": "stream",
     "text": [
      " 35%|███▍      | 170056/492864 [14:12<18:50, 285.53it/s] "
     ]
    },
    {
     "name": "stdout",
     "output_type": "stream",
     "text": [
      "Cls Train Epoch [01/2] Iter [169999/492864]34.492% Loss: 0.1090\n"
     ]
    },
    {
     "name": "stderr",
     "output_type": "stream",
     "text": [
      " 36%|███▌      | 175040/492864 [14:37<23:24, 226.23it/s]"
     ]
    },
    {
     "name": "stdout",
     "output_type": "stream",
     "text": [
      "Cls Train Epoch [01/2] Iter [174999/492864]35.507% Loss: 0.1087\n"
     ]
    },
    {
     "name": "stderr",
     "output_type": "stream",
     "text": [
      " 37%|███▋      | 180022/492864 [15:06<38:53, 134.06it/s] "
     ]
    },
    {
     "name": "stdout",
     "output_type": "stream",
     "text": [
      "Cls Train Epoch [01/2] Iter [179999/492864]36.521% Loss: 0.1084\n"
     ]
    },
    {
     "name": "stderr",
     "output_type": "stream",
     "text": [
      " 38%|███▊      | 185045/492864 [15:33<12:30, 410.00it/s]"
     ]
    },
    {
     "name": "stdout",
     "output_type": "stream",
     "text": [
      "Cls Train Epoch [01/2] Iter [184999/492864]37.536% Loss: 0.1080\n"
     ]
    },
    {
     "name": "stderr",
     "output_type": "stream",
     "text": [
      " 39%|███▊      | 190021/492864 [15:57<35:46, 141.10it/s]"
     ]
    },
    {
     "name": "stdout",
     "output_type": "stream",
     "text": [
      "Cls Train Epoch [01/2] Iter [189999/492864]38.550% Loss: 0.1077\n"
     ]
    },
    {
     "name": "stderr",
     "output_type": "stream",
     "text": [
      " 40%|███▉      | 195022/492864 [16:25<32:43, 151.71it/s]"
     ]
    },
    {
     "name": "stdout",
     "output_type": "stream",
     "text": [
      "Cls Train Epoch [01/2] Iter [194999/492864]39.564% Loss: 0.1074\n"
     ]
    },
    {
     "name": "stderr",
     "output_type": "stream",
     "text": [
      " 41%|████      | 200052/492864 [16:55<19:27, 250.71it/s]"
     ]
    },
    {
     "name": "stdout",
     "output_type": "stream",
     "text": [
      "Cls Train Epoch [01/2] Iter [199999/492864]40.579% Loss: 0.1072\n"
     ]
    },
    {
     "name": "stderr",
     "output_type": "stream",
     "text": [
      " 42%|████▏     | 205036/492864 [17:20<17:06, 280.41it/s]"
     ]
    },
    {
     "name": "stdout",
     "output_type": "stream",
     "text": [
      "Cls Train Epoch [01/2] Iter [204999/492864]41.593% Loss: 0.1069\n"
     ]
    },
    {
     "name": "stderr",
     "output_type": "stream",
     "text": [
      " 47%|████▋     | 230022/492864 [19:43<25:53, 169.16it/s]"
     ]
    },
    {
     "name": "stdout",
     "output_type": "stream",
     "text": [
      "Cls Train Epoch [01/2] Iter [229999/492864]46.666% Loss: 0.1057\n"
     ]
    },
    {
     "name": "stderr",
     "output_type": "stream",
     "text": [
      " 48%|████▊     | 235015/492864 [20:10<28:01, 153.30it/s]"
     ]
    },
    {
     "name": "stdout",
     "output_type": "stream",
     "text": [
      "Cls Train Epoch [01/2] Iter [234999/492864]47.680% Loss: 0.1054\n"
     ]
    },
    {
     "name": "stderr",
     "output_type": "stream",
     "text": [
      " 49%|████▊     | 240028/492864 [20:42<29:33, 142.58it/s]"
     ]
    },
    {
     "name": "stdout",
     "output_type": "stream",
     "text": [
      "Cls Train Epoch [01/2] Iter [239999/492864]48.695% Loss: 0.1052\n"
     ]
    },
    {
     "name": "stderr",
     "output_type": "stream",
     "text": [
      " 50%|████▉     | 245015/492864 [21:07<15:11, 272.05it/s]"
     ]
    },
    {
     "name": "stdout",
     "output_type": "stream",
     "text": [
      "Cls Train Epoch [01/2] Iter [244999/492864]49.709% Loss: 0.1050\n"
     ]
    },
    {
     "name": "stderr",
     "output_type": "stream",
     "text": [
      " 51%|█████     | 250031/492864 [21:34<25:55, 156.13it/s]"
     ]
    },
    {
     "name": "stdout",
     "output_type": "stream",
     "text": [
      "Cls Train Epoch [01/2] Iter [249999/492864]50.724% Loss: 0.1048\n"
     ]
    },
    {
     "name": "stderr",
     "output_type": "stream",
     "text": [
      " 52%|█████▏    | 255012/492864 [22:05<30:24, 130.36it/s]"
     ]
    },
    {
     "name": "stdout",
     "output_type": "stream",
     "text": [
      "Cls Train Epoch [01/2] Iter [254999/492864]51.738% Loss: 0.1047\n"
     ]
    },
    {
     "name": "stderr",
     "output_type": "stream",
     "text": [
      " 53%|█████▎    | 260040/492864 [22:29<20:38, 188.00it/s]"
     ]
    },
    {
     "name": "stdout",
     "output_type": "stream",
     "text": [
      "Cls Train Epoch [01/2] Iter [259999/492864]52.753% Loss: 0.1045\n"
     ]
    },
    {
     "name": "stderr",
     "output_type": "stream",
     "text": [
      " 54%|█████▍    | 265050/492864 [22:56<16:23, 231.60it/s]"
     ]
    },
    {
     "name": "stdout",
     "output_type": "stream",
     "text": [
      "Cls Train Epoch [01/2] Iter [264999/492864]53.767% Loss: 0.1043\n"
     ]
    },
    {
     "name": "stderr",
     "output_type": "stream",
     "text": [
      " 55%|█████▍    | 270034/492864 [23:29<20:24, 181.99it/s]"
     ]
    },
    {
     "name": "stdout",
     "output_type": "stream",
     "text": [
      "Cls Train Epoch [01/2] Iter [269999/492864]54.782% Loss: 0.1041\n"
     ]
    },
    {
     "name": "stderr",
     "output_type": "stream",
     "text": [
      " 56%|█████▌    | 275022/492864 [23:53<16:21, 222.01it/s]"
     ]
    },
    {
     "name": "stdout",
     "output_type": "stream",
     "text": [
      "Cls Train Epoch [01/2] Iter [274999/492864]55.796% Loss: 0.1040\n"
     ]
    },
    {
     "name": "stderr",
     "output_type": "stream",
     "text": [
      " 57%|█████▋    | 280009/492864 [24:19<32:57, 107.66it/s]"
     ]
    },
    {
     "name": "stdout",
     "output_type": "stream",
     "text": [
      "Cls Train Epoch [01/2] Iter [279999/492864]56.811% Loss: 0.1038\n"
     ]
    },
    {
     "name": "stderr",
     "output_type": "stream",
     "text": [
      " 58%|█████▊    | 285025/492864 [24:49<19:14, 179.95it/s]"
     ]
    },
    {
     "name": "stdout",
     "output_type": "stream",
     "text": [
      "Cls Train Epoch [01/2] Iter [284999/492864]57.825% Loss: 0.1036\n"
     ]
    },
    {
     "name": "stderr",
     "output_type": "stream",
     "text": [
      " 59%|█████▉    | 290034/492864 [25:12<21:42, 155.69it/s]"
     ]
    },
    {
     "name": "stdout",
     "output_type": "stream",
     "text": [
      "Cls Train Epoch [01/2] Iter [289999/492864]58.840% Loss: 0.1035\n"
     ]
    },
    {
     "name": "stderr",
     "output_type": "stream",
     "text": [
      " 60%|█████▉    | 295007/492864 [25:39<24:20, 135.44it/s]"
     ]
    },
    {
     "name": "stdout",
     "output_type": "stream",
     "text": [
      "Cls Train Epoch [01/2] Iter [294999/492864]59.854% Loss: 0.1034\n"
     ]
    },
    {
     "name": "stderr",
     "output_type": "stream",
     "text": [
      " 61%|██████    | 300034/492864 [26:10<12:22, 259.68it/s]"
     ]
    },
    {
     "name": "stdout",
     "output_type": "stream",
     "text": [
      "Cls Train Epoch [01/2] Iter [299999/492864]60.869% Loss: 0.1032\n"
     ]
    },
    {
     "name": "stderr",
     "output_type": "stream",
     "text": [
      " 62%|██████▏   | 305045/492864 [26:31<11:15, 278.01it/s]"
     ]
    },
    {
     "name": "stdout",
     "output_type": "stream",
     "text": [
      "Cls Train Epoch [01/2] Iter [304999/492864]61.883% Loss: 0.1031\n"
     ]
    },
    {
     "name": "stderr",
     "output_type": "stream",
     "text": [
      " 63%|██████▎   | 310022/492864 [26:56<18:21, 165.92it/s]"
     ]
    },
    {
     "name": "stdout",
     "output_type": "stream",
     "text": [
      "Cls Train Epoch [01/2] Iter [309999/492864]62.897% Loss: 0.1029\n"
     ]
    },
    {
     "name": "stderr",
     "output_type": "stream",
     "text": [
      " 64%|██████▍   | 315013/492864 [27:30<23:49, 124.40it/s]"
     ]
    },
    {
     "name": "stdout",
     "output_type": "stream",
     "text": [
      "Cls Train Epoch [01/2] Iter [314999/492864]63.912% Loss: 0.1028\n"
     ]
    },
    {
     "name": "stderr",
     "output_type": "stream",
     "text": [
      " 65%|██████▍   | 320041/492864 [27:54<11:36, 248.01it/s]"
     ]
    },
    {
     "name": "stdout",
     "output_type": "stream",
     "text": [
      "Cls Train Epoch [01/2] Iter [319999/492864]64.926% Loss: 0.1027\n"
     ]
    },
    {
     "name": "stderr",
     "output_type": "stream",
     "text": [
      " 66%|██████▌   | 325051/492864 [28:22<15:22, 182.01it/s]"
     ]
    },
    {
     "name": "stdout",
     "output_type": "stream",
     "text": [
      "Cls Train Epoch [01/2] Iter [324999/492864]65.941% Loss: 0.1026\n"
     ]
    },
    {
     "name": "stderr",
     "output_type": "stream",
     "text": [
      " 67%|██████▋   | 330025/492864 [28:50<12:43, 213.35it/s]"
     ]
    },
    {
     "name": "stdout",
     "output_type": "stream",
     "text": [
      "Cls Train Epoch [01/2] Iter [329999/492864]66.955% Loss: 0.1025\n"
     ]
    },
    {
     "name": "stderr",
     "output_type": "stream",
     "text": [
      " 68%|██████▊   | 335021/492864 [29:16<14:39, 179.53it/s]"
     ]
    },
    {
     "name": "stdout",
     "output_type": "stream",
     "text": [
      "Cls Train Epoch [01/2] Iter [334999/492864]67.970% Loss: 0.1023\n"
     ]
    },
    {
     "name": "stderr",
     "output_type": "stream",
     "text": [
      " 69%|██████▉   | 340013/492864 [29:43<16:16, 156.54it/s]"
     ]
    },
    {
     "name": "stdout",
     "output_type": "stream",
     "text": [
      "Cls Train Epoch [01/2] Iter [339999/492864]68.984% Loss: 0.1022\n"
     ]
    },
    {
     "name": "stderr",
     "output_type": "stream",
     "text": [
      " 70%|███████   | 345019/492864 [30:14<18:01, 136.74it/s]"
     ]
    },
    {
     "name": "stdout",
     "output_type": "stream",
     "text": [
      "Cls Train Epoch [01/2] Iter [344999/492864]69.999% Loss: 0.1021\n"
     ]
    },
    {
     "name": "stderr",
     "output_type": "stream",
     "text": [
      " 71%|███████   | 350035/492864 [30:41<14:19, 166.12it/s]"
     ]
    },
    {
     "name": "stdout",
     "output_type": "stream",
     "text": [
      "Cls Train Epoch [01/2] Iter [349999/492864]71.013% Loss: 0.1020\n"
     ]
    },
    {
     "name": "stderr",
     "output_type": "stream",
     "text": [
      " 72%|███████▏  | 355017/492864 [31:06<15:12, 151.02it/s]"
     ]
    },
    {
     "name": "stdout",
     "output_type": "stream",
     "text": [
      "Cls Train Epoch [01/2] Iter [354999/492864]72.028% Loss: 0.1019\n"
     ]
    },
    {
     "name": "stderr",
     "output_type": "stream",
     "text": [
      " 73%|███████▎  | 360015/492864 [31:36<16:23, 135.07it/s]"
     ]
    },
    {
     "name": "stdout",
     "output_type": "stream",
     "text": [
      "Cls Train Epoch [01/2] Iter [359999/492864]73.042% Loss: 0.1017\n"
     ]
    },
    {
     "name": "stderr",
     "output_type": "stream",
     "text": [
      " 74%|███████▍  | 365019/492864 [32:00<15:36, 136.53it/s]"
     ]
    },
    {
     "name": "stdout",
     "output_type": "stream",
     "text": [
      "Cls Train Epoch [01/2] Iter [364999/492864]74.057% Loss: 0.1016\n"
     ]
    },
    {
     "name": "stderr",
     "output_type": "stream",
     "text": [
      " 75%|███████▌  | 370032/492864 [32:26<14:49, 138.10it/s]"
     ]
    },
    {
     "name": "stdout",
     "output_type": "stream",
     "text": [
      "Cls Train Epoch [01/2] Iter [369999/492864]75.071% Loss: 0.1015\n"
     ]
    },
    {
     "name": "stderr",
     "output_type": "stream",
     "text": [
      " 76%|███████▌  | 375023/492864 [32:57<13:31, 145.18it/s]"
     ]
    },
    {
     "name": "stdout",
     "output_type": "stream",
     "text": [
      "Cls Train Epoch [01/2] Iter [374999/492864]76.086% Loss: 0.1014\n"
     ]
    },
    {
     "name": "stderr",
     "output_type": "stream",
     "text": [
      " 77%|███████▋  | 380036/492864 [33:24<09:12, 204.14it/s]"
     ]
    },
    {
     "name": "stdout",
     "output_type": "stream",
     "text": [
      "Cls Train Epoch [01/2] Iter [379999/492864]77.100% Loss: 0.1013\n"
     ]
    },
    {
     "name": "stderr",
     "output_type": "stream",
     "text": [
      " 78%|███████▊  | 385015/492864 [33:49<11:42, 153.63it/s]"
     ]
    },
    {
     "name": "stdout",
     "output_type": "stream",
     "text": [
      "Cls Train Epoch [01/2] Iter [384999/492864]78.115% Loss: 0.1012\n"
     ]
    },
    {
     "name": "stderr",
     "output_type": "stream",
     "text": [
      " 79%|███████▉  | 390016/492864 [34:20<08:29, 201.93it/s]"
     ]
    },
    {
     "name": "stdout",
     "output_type": "stream",
     "text": [
      "Cls Train Epoch [01/2] Iter [389999/492864]79.129% Loss: 0.1011\n"
     ]
    },
    {
     "name": "stderr",
     "output_type": "stream",
     "text": [
      " 80%|████████  | 395035/492864 [34:45<07:54, 206.34it/s]"
     ]
    },
    {
     "name": "stdout",
     "output_type": "stream",
     "text": [
      "Cls Train Epoch [01/2] Iter [394999/492864]80.144% Loss: 0.1010\n"
     ]
    },
    {
     "name": "stderr",
     "output_type": "stream",
     "text": [
      " 81%|████████  | 400025/492864 [35:10<10:30, 147.21it/s]"
     ]
    },
    {
     "name": "stdout",
     "output_type": "stream",
     "text": [
      "Cls Train Epoch [01/2] Iter [399999/492864]81.158% Loss: 0.1009\n"
     ]
    },
    {
     "name": "stderr",
     "output_type": "stream",
     "text": [
      " 82%|████████▏ | 405012/492864 [35:40<09:15, 158.27it/s]"
     ]
    },
    {
     "name": "stdout",
     "output_type": "stream",
     "text": [
      "Cls Train Epoch [01/2] Iter [404999/492864]82.173% Loss: 0.1008\n"
     ]
    },
    {
     "name": "stderr",
     "output_type": "stream",
     "text": [
      " 83%|████████▎ | 410017/492864 [36:04<09:40, 142.67it/s]"
     ]
    },
    {
     "name": "stdout",
     "output_type": "stream",
     "text": [
      "Cls Train Epoch [01/2] Iter [409999/492864]83.187% Loss: 0.1007\n"
     ]
    },
    {
     "name": "stderr",
     "output_type": "stream",
     "text": [
      " 84%|████████▍ | 415033/492864 [36:27<05:06, 253.85it/s]"
     ]
    },
    {
     "name": "stdout",
     "output_type": "stream",
     "text": [
      "Cls Train Epoch [01/2] Iter [414999/492864]84.202% Loss: 0.1006\n"
     ]
    },
    {
     "name": "stderr",
     "output_type": "stream",
     "text": [
      " 85%|████████▌ | 420036/492864 [36:57<06:49, 177.77it/s]"
     ]
    },
    {
     "name": "stdout",
     "output_type": "stream",
     "text": [
      "Cls Train Epoch [01/2] Iter [419999/492864]85.216% Loss: 0.1005\n"
     ]
    },
    {
     "name": "stderr",
     "output_type": "stream",
     "text": [
      " 86%|████████▌ | 425051/492864 [37:21<04:10, 270.94it/s]"
     ]
    },
    {
     "name": "stdout",
     "output_type": "stream",
     "text": [
      "Cls Train Epoch [01/2] Iter [424999/492864]86.230% Loss: 0.1005\n"
     ]
    },
    {
     "name": "stderr",
     "output_type": "stream",
     "text": [
      " 87%|████████▋ | 430019/492864 [37:47<06:17, 166.53it/s]"
     ]
    },
    {
     "name": "stdout",
     "output_type": "stream",
     "text": [
      "Cls Train Epoch [01/2] Iter [429999/492864]87.245% Loss: 0.1004\n"
     ]
    },
    {
     "name": "stderr",
     "output_type": "stream",
     "text": [
      " 88%|████████▊ | 435028/492864 [38:14<05:35, 172.22it/s]"
     ]
    },
    {
     "name": "stdout",
     "output_type": "stream",
     "text": [
      "Cls Train Epoch [01/2] Iter [434999/492864]88.259% Loss: 0.1003\n"
     ]
    },
    {
     "name": "stderr",
     "output_type": "stream",
     "text": [
      " 89%|████████▉ | 440061/492864 [38:40<02:47, 314.59it/s]"
     ]
    },
    {
     "name": "stdout",
     "output_type": "stream",
     "text": [
      "Cls Train Epoch [01/2] Iter [439999/492864]89.274% Loss: 0.1002\n"
     ]
    },
    {
     "name": "stderr",
     "output_type": "stream",
     "text": [
      " 90%|█████████ | 445036/492864 [39:04<03:26, 231.88it/s]"
     ]
    },
    {
     "name": "stdout",
     "output_type": "stream",
     "text": [
      "Cls Train Epoch [01/2] Iter [444999/492864]90.288% Loss: 0.1001\n"
     ]
    },
    {
     "name": "stderr",
     "output_type": "stream",
     "text": [
      " 91%|█████████▏| 450003/492864 [39:33<04:20, 164.33it/s]"
     ]
    },
    {
     "name": "stdout",
     "output_type": "stream",
     "text": [
      "Cls Train Epoch [01/2] Iter [449999/492864]91.303% Loss: 0.1001\n"
     ]
    },
    {
     "name": "stderr",
     "output_type": "stream",
     "text": [
      " 92%|█████████▏| 455046/492864 [39:58<02:38, 238.41it/s]"
     ]
    },
    {
     "name": "stdout",
     "output_type": "stream",
     "text": [
      "Cls Train Epoch [01/2] Iter [454999/492864]92.317% Loss: 0.1000\n"
     ]
    },
    {
     "name": "stderr",
     "output_type": "stream",
     "text": [
      " 93%|█████████▎| 460040/492864 [40:22<02:30, 217.42it/s]"
     ]
    },
    {
     "name": "stdout",
     "output_type": "stream",
     "text": [
      "Cls Train Epoch [01/2] Iter [459999/492864]93.332% Loss: 0.0999\n"
     ]
    },
    {
     "name": "stderr",
     "output_type": "stream",
     "text": [
      " 94%|█████████▍| 465018/492864 [40:53<03:11, 145.14it/s]"
     ]
    },
    {
     "name": "stdout",
     "output_type": "stream",
     "text": [
      "Cls Train Epoch [01/2] Iter [464999/492864]94.346% Loss: 0.0998\n"
     ]
    },
    {
     "name": "stderr",
     "output_type": "stream",
     "text": [
      " 95%|█████████▌| 470054/492864 [41:20<01:40, 227.16it/s]"
     ]
    },
    {
     "name": "stdout",
     "output_type": "stream",
     "text": [
      "Cls Train Epoch [01/2] Iter [469999/492864]95.361% Loss: 0.0998\n"
     ]
    },
    {
     "name": "stderr",
     "output_type": "stream",
     "text": [
      " 96%|█████████▋| 475029/492864 [41:42<01:40, 177.40it/s]"
     ]
    },
    {
     "name": "stdout",
     "output_type": "stream",
     "text": [
      "Cls Train Epoch [01/2] Iter [474999/492864]96.375% Loss: 0.0997\n"
     ]
    },
    {
     "name": "stderr",
     "output_type": "stream",
     "text": [
      " 97%|█████████▋| 480014/492864 [42:14<02:00, 106.42it/s]"
     ]
    },
    {
     "name": "stdout",
     "output_type": "stream",
     "text": [
      "Cls Train Epoch [01/2] Iter [479999/492864]97.390% Loss: 0.0996\n"
     ]
    },
    {
     "name": "stderr",
     "output_type": "stream",
     "text": [
      " 98%|█████████▊| 485021/492864 [42:40<00:41, 188.09it/s]"
     ]
    },
    {
     "name": "stdout",
     "output_type": "stream",
     "text": [
      "Cls Train Epoch [01/2] Iter [484999/492864]98.404% Loss: 0.0995\n"
     ]
    },
    {
     "name": "stderr",
     "output_type": "stream",
     "text": [
      " 99%|█████████▉| 490011/492864 [43:04<00:20, 142.59it/s]"
     ]
    },
    {
     "name": "stdout",
     "output_type": "stream",
     "text": [
      "Cls Train Epoch [01/2] Iter [489999/492864]99.419% Loss: 0.0994\n"
     ]
    },
    {
     "name": "stderr",
     "output_type": "stream",
     "text": [
      "100%|██████████| 492864/492864 [43:24<00:00, 189.24it/s]\n",
      "  1%|          | 5039/492864 [00:32<25:07, 323.53it/s]  "
     ]
    },
    {
     "name": "stdout",
     "output_type": "stream",
     "text": [
      "Cls Train Epoch [02/2] Iter [04999/492864]1.014% Loss: 0.0920\n"
     ]
    },
    {
     "name": "stderr",
     "output_type": "stream",
     "text": [
      "  2%|▏         | 10040/492864 [00:56<25:54, 310.56it/s] "
     ]
    },
    {
     "name": "stdout",
     "output_type": "stream",
     "text": [
      "Cls Train Epoch [02/2] Iter [09999/492864]2.029% Loss: 0.0932\n"
     ]
    },
    {
     "name": "stderr",
     "output_type": "stream",
     "text": [
      "  3%|▎         | 15048/492864 [01:26<41:27, 192.06it/s]  "
     ]
    },
    {
     "name": "stdout",
     "output_type": "stream",
     "text": [
      "Cls Train Epoch [02/2] Iter [14999/492864]3.043% Loss: 0.0931\n"
     ]
    },
    {
     "name": "stderr",
     "output_type": "stream",
     "text": [
      "  4%|▍         | 20018/492864 [01:53<37:32, 209.95it/s]  "
     ]
    },
    {
     "name": "stdout",
     "output_type": "stream",
     "text": [
      "Cls Train Epoch [02/2] Iter [19999/492864]4.058% Loss: 0.0928\n"
     ]
    },
    {
     "name": "stderr",
     "output_type": "stream",
     "text": [
      "  5%|▌         | 25035/492864 [02:18<35:50, 217.55it/s]  "
     ]
    },
    {
     "name": "stdout",
     "output_type": "stream",
     "text": [
      "Cls Train Epoch [02/2] Iter [24999/492864]5.072% Loss: 0.0925\n"
     ]
    },
    {
     "name": "stderr",
     "output_type": "stream",
     "text": [
      "  6%|▌         | 30028/492864 [02:49<44:32, 173.19it/s]  "
     ]
    },
    {
     "name": "stdout",
     "output_type": "stream",
     "text": [
      "Cls Train Epoch [02/2] Iter [29999/492864]6.087% Loss: 0.0924\n"
     ]
    },
    {
     "name": "stderr",
     "output_type": "stream",
     "text": [
      "  7%|▋         | 35028/492864 [03:15<29:04, 262.48it/s]  "
     ]
    },
    {
     "name": "stdout",
     "output_type": "stream",
     "text": [
      "Cls Train Epoch [02/2] Iter [34999/492864]7.101% Loss: 0.0920\n"
     ]
    },
    {
     "name": "stderr",
     "output_type": "stream",
     "text": [
      "  8%|▊         | 40025/492864 [03:40<44:08, 171.00it/s]  "
     ]
    },
    {
     "name": "stdout",
     "output_type": "stream",
     "text": [
      "Cls Train Epoch [02/2] Iter [39999/492864]8.116% Loss: 0.0924\n"
     ]
    },
    {
     "name": "stderr",
     "output_type": "stream",
     "text": [
      "  9%|▉         | 45013/492864 [04:13<46:02, 162.11it/s]  "
     ]
    },
    {
     "name": "stdout",
     "output_type": "stream",
     "text": [
      "Cls Train Epoch [02/2] Iter [44999/492864]9.130% Loss: 0.0924\n"
     ]
    },
    {
     "name": "stderr",
     "output_type": "stream",
     "text": [
      " 10%|█         | 50016/492864 [04:39<1:06:19, 111.28it/s]"
     ]
    },
    {
     "name": "stdout",
     "output_type": "stream",
     "text": [
      "Cls Train Epoch [02/2] Iter [49999/492864]10.145% Loss: 0.0924\n"
     ]
    },
    {
     "name": "stderr",
     "output_type": "stream",
     "text": [
      " 11%|█         | 55034/492864 [05:06<41:42, 174.95it/s]  "
     ]
    },
    {
     "name": "stdout",
     "output_type": "stream",
     "text": [
      "Cls Train Epoch [02/2] Iter [54999/492864]11.159% Loss: 0.0923\n"
     ]
    },
    {
     "name": "stderr",
     "output_type": "stream",
     "text": [
      " 12%|█▏        | 60019/492864 [05:36<53:40, 134.42it/s]  "
     ]
    },
    {
     "name": "stdout",
     "output_type": "stream",
     "text": [
      "Cls Train Epoch [02/2] Iter [59999/492864]12.174% Loss: 0.0924\n"
     ]
    },
    {
     "name": "stderr",
     "output_type": "stream",
     "text": [
      " 13%|█▎        | 65012/492864 [06:00<44:02, 161.91it/s]  "
     ]
    },
    {
     "name": "stdout",
     "output_type": "stream",
     "text": [
      "Cls Train Epoch [02/2] Iter [64999/492864]13.188% Loss: 0.0924\n"
     ]
    },
    {
     "name": "stderr",
     "output_type": "stream",
     "text": [
      " 14%|█▍        | 70031/492864 [06:28<38:45, 181.85it/s]  "
     ]
    },
    {
     "name": "stdout",
     "output_type": "stream",
     "text": [
      "Cls Train Epoch [02/2] Iter [69999/492864]14.202% Loss: 0.0924\n"
     ]
    },
    {
     "name": "stderr",
     "output_type": "stream",
     "text": [
      " 15%|█▌        | 75017/492864 [06:57<42:33, 163.63it/s]  "
     ]
    },
    {
     "name": "stdout",
     "output_type": "stream",
     "text": [
      "Cls Train Epoch [02/2] Iter [74999/492864]15.217% Loss: 0.0924\n"
     ]
    },
    {
     "name": "stderr",
     "output_type": "stream",
     "text": [
      " 16%|█▌        | 80017/492864 [07:24<51:17, 134.16it/s]  "
     ]
    },
    {
     "name": "stdout",
     "output_type": "stream",
     "text": [
      "Cls Train Epoch [02/2] Iter [79999/492864]16.231% Loss: 0.0923\n"
     ]
    },
    {
     "name": "stderr",
     "output_type": "stream",
     "text": [
      " 17%|█▋        | 85016/492864 [07:51<55:19, 122.85it/s]"
     ]
    },
    {
     "name": "stdout",
     "output_type": "stream",
     "text": [
      "Cls Train Epoch [02/2] Iter [84999/492864]17.246% Loss: 0.0923\n"
     ]
    },
    {
     "name": "stderr",
     "output_type": "stream",
     "text": [
      " 18%|█▊        | 90033/492864 [08:22<42:13, 158.99it/s]  "
     ]
    },
    {
     "name": "stdout",
     "output_type": "stream",
     "text": [
      "Cls Train Epoch [02/2] Iter [89999/492864]18.260% Loss: 0.0923\n"
     ]
    },
    {
     "name": "stderr",
     "output_type": "stream",
     "text": [
      " 19%|█▉        | 95023/492864 [08:48<51:33, 128.60it/s]  "
     ]
    },
    {
     "name": "stdout",
     "output_type": "stream",
     "text": [
      "Cls Train Epoch [02/2] Iter [94999/492864]19.275% Loss: 0.0923\n"
     ]
    },
    {
     "name": "stderr",
     "output_type": "stream",
     "text": [
      " 20%|██        | 100031/492864 [09:14<41:58, 155.98it/s] "
     ]
    },
    {
     "name": "stdout",
     "output_type": "stream",
     "text": [
      "Cls Train Epoch [02/2] Iter [99999/492864]20.289% Loss: 0.0922\n"
     ]
    },
    {
     "name": "stderr",
     "output_type": "stream",
     "text": [
      " 21%|██▏       | 105016/492864 [09:43<29:36, 218.37it/s]  "
     ]
    },
    {
     "name": "stdout",
     "output_type": "stream",
     "text": [
      "Cls Train Epoch [02/2] Iter [104999/492864]21.304% Loss: 0.0922\n"
     ]
    },
    {
     "name": "stderr",
     "output_type": "stream",
     "text": [
      " 22%|██▏       | 110018/492864 [10:09<58:05, 109.83it/s]  "
     ]
    },
    {
     "name": "stdout",
     "output_type": "stream",
     "text": [
      "Cls Train Epoch [02/2] Iter [109999/492864]22.318% Loss: 0.0922\n"
     ]
    },
    {
     "name": "stderr",
     "output_type": "stream",
     "text": [
      " 23%|██▎       | 115038/492864 [10:33<34:05, 184.70it/s]"
     ]
    },
    {
     "name": "stdout",
     "output_type": "stream",
     "text": [
      "Cls Train Epoch [02/2] Iter [114999/492864]23.333% Loss: 0.0923\n"
     ]
    },
    {
     "name": "stderr",
     "output_type": "stream",
     "text": [
      " 24%|██▍       | 120021/492864 [11:04<46:18, 134.17it/s]  "
     ]
    },
    {
     "name": "stdout",
     "output_type": "stream",
     "text": [
      "Cls Train Epoch [02/2] Iter [119999/492864]24.347% Loss: 0.0923\n"
     ]
    },
    {
     "name": "stderr",
     "output_type": "stream",
     "text": [
      " 25%|██▌       | 125008/492864 [11:30<35:16, 173.80it/s]"
     ]
    },
    {
     "name": "stdout",
     "output_type": "stream",
     "text": [
      "Cls Train Epoch [02/2] Iter [124999/492864]25.362% Loss: 0.0922\n"
     ]
    },
    {
     "name": "stderr",
     "output_type": "stream",
     "text": [
      " 26%|██▋       | 130044/492864 [11:55<31:02, 194.82it/s]"
     ]
    },
    {
     "name": "stdout",
     "output_type": "stream",
     "text": [
      "Cls Train Epoch [02/2] Iter [129999/492864]26.376% Loss: 0.0922\n"
     ]
    },
    {
     "name": "stderr",
     "output_type": "stream",
     "text": [
      " 27%|██▋       | 135019/492864 [12:26<43:54, 135.85it/s] "
     ]
    },
    {
     "name": "stdout",
     "output_type": "stream",
     "text": [
      "Cls Train Epoch [02/2] Iter [134999/492864]27.391% Loss: 0.0922\n"
     ]
    },
    {
     "name": "stderr",
     "output_type": "stream",
     "text": [
      " 28%|██▊       | 140016/492864 [12:51<42:59, 136.77it/s]"
     ]
    },
    {
     "name": "stdout",
     "output_type": "stream",
     "text": [
      "Cls Train Epoch [02/2] Iter [139999/492864]28.405% Loss: 0.0922\n"
     ]
    },
    {
     "name": "stderr",
     "output_type": "stream",
     "text": [
      " 29%|██▉       | 145021/492864 [13:16<36:08, 160.38it/s]"
     ]
    },
    {
     "name": "stdout",
     "output_type": "stream",
     "text": [
      "Cls Train Epoch [02/2] Iter [144999/492864]29.420% Loss: 0.0922\n"
     ]
    },
    {
     "name": "stderr",
     "output_type": "stream",
     "text": [
      " 30%|███       | 150000/492864 [13:46<35:16, 161.98it/s]"
     ]
    },
    {
     "name": "stdout",
     "output_type": "stream",
     "text": [
      "Cls Train Epoch [02/2] Iter [149999/492864]30.434% Loss: 0.0922\n"
     ]
    },
    {
     "name": "stderr",
     "output_type": "stream",
     "text": [
      " 31%|███▏      | 155011/492864 [14:14<43:53, 128.28it/s]"
     ]
    },
    {
     "name": "stdout",
     "output_type": "stream",
     "text": [
      "Cls Train Epoch [02/2] Iter [154999/492864]31.449% Loss: 0.0922\n"
     ]
    },
    {
     "name": "stderr",
     "output_type": "stream",
     "text": [
      " 32%|███▏      | 160016/492864 [14:41<37:08, 149.38it/s] "
     ]
    },
    {
     "name": "stdout",
     "output_type": "stream",
     "text": [
      "Cls Train Epoch [02/2] Iter [159999/492864]32.463% Loss: 0.0923\n"
     ]
    },
    {
     "name": "stderr",
     "output_type": "stream",
     "text": [
      " 33%|███▎      | 165012/492864 [15:11<39:50, 137.15it/s]"
     ]
    },
    {
     "name": "stdout",
     "output_type": "stream",
     "text": [
      "Cls Train Epoch [02/2] Iter [164999/492864]33.478% Loss: 0.0922\n"
     ]
    },
    {
     "name": "stderr",
     "output_type": "stream",
     "text": [
      " 34%|███▍      | 170027/492864 [15:37<22:57, 234.34it/s]"
     ]
    },
    {
     "name": "stdout",
     "output_type": "stream",
     "text": [
      "Cls Train Epoch [02/2] Iter [169999/492864]34.492% Loss: 0.0923\n"
     ]
    },
    {
     "name": "stderr",
     "output_type": "stream",
     "text": [
      " 36%|███▌      | 175025/492864 [16:03<29:04, 182.20it/s]"
     ]
    },
    {
     "name": "stdout",
     "output_type": "stream",
     "text": [
      "Cls Train Epoch [02/2] Iter [174999/492864]35.507% Loss: 0.0923\n"
     ]
    },
    {
     "name": "stderr",
     "output_type": "stream",
     "text": [
      " 37%|███▋      | 180023/492864 [16:33<30:19, 171.93it/s] "
     ]
    },
    {
     "name": "stdout",
     "output_type": "stream",
     "text": [
      "Cls Train Epoch [02/2] Iter [179999/492864]36.521% Loss: 0.0923\n"
     ]
    },
    {
     "name": "stderr",
     "output_type": "stream",
     "text": [
      " 38%|███▊      | 185044/492864 [16:59<32:27, 158.08it/s]"
     ]
    },
    {
     "name": "stdout",
     "output_type": "stream",
     "text": [
      "Cls Train Epoch [02/2] Iter [184999/492864]37.536% Loss: 0.0922\n"
     ]
    },
    {
     "name": "stderr",
     "output_type": "stream",
     "text": [
      " 39%|███▊      | 190018/492864 [17:23<33:46, 149.41it/s]"
     ]
    },
    {
     "name": "stdout",
     "output_type": "stream",
     "text": [
      "Cls Train Epoch [02/2] Iter [189999/492864]38.550% Loss: 0.0922\n"
     ]
    },
    {
     "name": "stderr",
     "output_type": "stream",
     "text": [
      " 40%|███▉      | 195025/492864 [17:53<33:28, 148.26it/s]"
     ]
    },
    {
     "name": "stdout",
     "output_type": "stream",
     "text": [
      "Cls Train Epoch [02/2] Iter [194999/492864]39.564% Loss: 0.0922\n"
     ]
    },
    {
     "name": "stderr",
     "output_type": "stream",
     "text": [
      " 41%|████      | 200019/492864 [18:18<25:08, 194.18it/s]"
     ]
    },
    {
     "name": "stdout",
     "output_type": "stream",
     "text": [
      "Cls Train Epoch [02/2] Iter [199999/492864]40.579% Loss: 0.0921\n"
     ]
    },
    {
     "name": "stderr",
     "output_type": "stream",
     "text": [
      " 42%|████▏     | 205030/492864 [18:45<36:59, 129.68it/s]"
     ]
    },
    {
     "name": "stdout",
     "output_type": "stream",
     "text": [
      "Cls Train Epoch [02/2] Iter [204999/492864]41.593% Loss: 0.0921\n"
     ]
    },
    {
     "name": "stderr",
     "output_type": "stream",
     "text": [
      " 43%|████▎     | 210023/492864 [19:17<29:21, 160.59it/s]"
     ]
    },
    {
     "name": "stdout",
     "output_type": "stream",
     "text": [
      "Cls Train Epoch [02/2] Iter [209999/492864]42.608% Loss: 0.0921\n"
     ]
    },
    {
     "name": "stderr",
     "output_type": "stream",
     "text": [
      " 44%|████▎     | 215045/492864 [19:43<21:01, 220.31it/s]"
     ]
    },
    {
     "name": "stdout",
     "output_type": "stream",
     "text": [
      "Cls Train Epoch [02/2] Iter [214999/492864]43.622% Loss: 0.0920\n"
     ]
    },
    {
     "name": "stderr",
     "output_type": "stream",
     "text": [
      " 45%|████▍     | 220019/492864 [20:12<34:01, 133.63it/s]"
     ]
    },
    {
     "name": "stdout",
     "output_type": "stream",
     "text": [
      "Cls Train Epoch [02/2] Iter [219999/492864]44.637% Loss: 0.0920\n"
     ]
    },
    {
     "name": "stderr",
     "output_type": "stream",
     "text": [
      " 46%|████▌     | 225004/492864 [20:41<33:58, 131.42it/s]"
     ]
    },
    {
     "name": "stdout",
     "output_type": "stream",
     "text": [
      "Cls Train Epoch [02/2] Iter [224999/492864]45.651% Loss: 0.0920\n"
     ]
    },
    {
     "name": "stderr",
     "output_type": "stream",
     "text": [
      " 47%|████▋     | 230015/492864 [21:06<16:47, 260.97it/s]"
     ]
    },
    {
     "name": "stdout",
     "output_type": "stream",
     "text": [
      "Cls Train Epoch [02/2] Iter [229999/492864]46.666% Loss: 0.0920\n"
     ]
    },
    {
     "name": "stderr",
     "output_type": "stream",
     "text": [
      " 48%|████▊     | 235021/492864 [21:34<28:25, 151.15it/s] "
     ]
    },
    {
     "name": "stdout",
     "output_type": "stream",
     "text": [
      "Cls Train Epoch [02/2] Iter [234999/492864]47.680% Loss: 0.0919\n"
     ]
    },
    {
     "name": "stderr",
     "output_type": "stream",
     "text": [
      " 49%|████▊     | 240043/492864 [22:08<17:42, 237.93it/s] "
     ]
    },
    {
     "name": "stdout",
     "output_type": "stream",
     "text": [
      "Cls Train Epoch [02/2] Iter [239999/492864]48.695% Loss: 0.0919\n"
     ]
    },
    {
     "name": "stderr",
     "output_type": "stream",
     "text": [
      " 50%|████▉     | 245020/492864 [22:30<23:06, 178.70it/s]"
     ]
    },
    {
     "name": "stdout",
     "output_type": "stream",
     "text": [
      "Cls Train Epoch [02/2] Iter [244999/492864]49.709% Loss: 0.0919\n"
     ]
    },
    {
     "name": "stderr",
     "output_type": "stream",
     "text": [
      " 51%|█████     | 250033/492864 [22:57<26:01, 155.50it/s]"
     ]
    },
    {
     "name": "stdout",
     "output_type": "stream",
     "text": [
      "Cls Train Epoch [02/2] Iter [249999/492864]50.724% Loss: 0.0919\n"
     ]
    },
    {
     "name": "stderr",
     "output_type": "stream",
     "text": [
      " 52%|█████▏    | 255029/492864 [23:32<19:49, 199.97it/s] "
     ]
    },
    {
     "name": "stdout",
     "output_type": "stream",
     "text": [
      "Cls Train Epoch [02/2] Iter [254999/492864]51.738% Loss: 0.0919\n"
     ]
    },
    {
     "name": "stderr",
     "output_type": "stream",
     "text": [
      " 53%|█████▎    | 260039/492864 [23:57<19:53, 195.10it/s]"
     ]
    },
    {
     "name": "stdout",
     "output_type": "stream",
     "text": [
      "Cls Train Epoch [02/2] Iter [259999/492864]52.753% Loss: 0.0919\n"
     ]
    },
    {
     "name": "stderr",
     "output_type": "stream",
     "text": [
      " 54%|█████▍    | 265035/492864 [24:28<19:47, 191.84it/s] "
     ]
    },
    {
     "name": "stdout",
     "output_type": "stream",
     "text": [
      "Cls Train Epoch [02/2] Iter [264999/492864]53.767% Loss: 0.0919\n"
     ]
    },
    {
     "name": "stderr",
     "output_type": "stream",
     "text": [
      " 55%|█████▍    | 270016/492864 [24:57<13:11, 281.66it/s]"
     ]
    },
    {
     "name": "stdout",
     "output_type": "stream",
     "text": [
      "Cls Train Epoch [02/2] Iter [269999/492864]54.782% Loss: 0.0919\n"
     ]
    },
    {
     "name": "stderr",
     "output_type": "stream",
     "text": [
      " 56%|█████▌    | 275058/492864 [25:22<13:01, 278.53it/s]"
     ]
    },
    {
     "name": "stdout",
     "output_type": "stream",
     "text": [
      "Cls Train Epoch [02/2] Iter [274999/492864]55.796% Loss: 0.0918\n"
     ]
    },
    {
     "name": "stderr",
     "output_type": "stream",
     "text": [
      " 57%|█████▋    | 280044/492864 [25:53<18:25, 192.53it/s]"
     ]
    },
    {
     "name": "stdout",
     "output_type": "stream",
     "text": [
      "Cls Train Epoch [02/2] Iter [279999/492864]56.811% Loss: 0.0918\n"
     ]
    },
    {
     "name": "stderr",
     "output_type": "stream",
     "text": [
      " 58%|█████▊    | 285018/492864 [26:20<16:14, 213.19it/s]"
     ]
    },
    {
     "name": "stdout",
     "output_type": "stream",
     "text": [
      "Cls Train Epoch [02/2] Iter [284999/492864]57.825% Loss: 0.0918\n"
     ]
    },
    {
     "name": "stderr",
     "output_type": "stream",
     "text": [
      " 59%|█████▉    | 290020/492864 [26:48<25:32, 132.34it/s]"
     ]
    },
    {
     "name": "stdout",
     "output_type": "stream",
     "text": [
      "Cls Train Epoch [02/2] Iter [289999/492864]58.840% Loss: 0.0918\n"
     ]
    },
    {
     "name": "stderr",
     "output_type": "stream",
     "text": [
      " 60%|█████▉    | 295023/492864 [27:20<20:40, 159.53it/s]"
     ]
    },
    {
     "name": "stdout",
     "output_type": "stream",
     "text": [
      "Cls Train Epoch [02/2] Iter [294999/492864]59.854% Loss: 0.0918\n"
     ]
    },
    {
     "name": "stderr",
     "output_type": "stream",
     "text": [
      " 61%|██████    | 300011/492864 [27:49<45:29, 70.64it/s]  "
     ]
    },
    {
     "name": "stdout",
     "output_type": "stream",
     "text": [
      "Cls Train Epoch [02/2] Iter [299999/492864]60.869% Loss: 0.0917\n"
     ]
    },
    {
     "name": "stderr",
     "output_type": "stream",
     "text": [
      " 62%|██████▏   | 305021/492864 [28:38<33:24, 93.69it/s]  "
     ]
    },
    {
     "name": "stdout",
     "output_type": "stream",
     "text": [
      "Cls Train Epoch [02/2] Iter [304999/492864]61.883% Loss: 0.0917\n"
     ]
    },
    {
     "name": "stderr",
     "output_type": "stream",
     "text": [
      " 63%|██████▎   | 310041/492864 [29:07<12:47, 238.06it/s]"
     ]
    },
    {
     "name": "stdout",
     "output_type": "stream",
     "text": [
      "Cls Train Epoch [02/2] Iter [309999/492864]62.897% Loss: 0.0917\n"
     ]
    },
    {
     "name": "stderr",
     "output_type": "stream",
     "text": [
      " 64%|██████▍   | 315019/492864 [29:30<20:49, 142.33it/s]"
     ]
    },
    {
     "name": "stdout",
     "output_type": "stream",
     "text": [
      "Cls Train Epoch [02/2] Iter [314999/492864]63.912% Loss: 0.0917\n"
     ]
    },
    {
     "name": "stderr",
     "output_type": "stream",
     "text": [
      " 65%|██████▍   | 320033/492864 [29:55<16:33, 173.90it/s]"
     ]
    },
    {
     "name": "stdout",
     "output_type": "stream",
     "text": [
      "Cls Train Epoch [02/2] Iter [319999/492864]64.926% Loss: 0.0917\n"
     ]
    },
    {
     "name": "stderr",
     "output_type": "stream",
     "text": [
      " 66%|██████▌   | 325034/492864 [30:22<11:43, 238.59it/s]"
     ]
    },
    {
     "name": "stdout",
     "output_type": "stream",
     "text": [
      "Cls Train Epoch [02/2] Iter [324999/492864]65.941% Loss: 0.0917\n"
     ]
    },
    {
     "name": "stderr",
     "output_type": "stream",
     "text": [
      " 67%|██████▋   | 330024/492864 [30:46<13:20, 203.32it/s]"
     ]
    },
    {
     "name": "stdout",
     "output_type": "stream",
     "text": [
      "Cls Train Epoch [02/2] Iter [329999/492864]66.955% Loss: 0.0917\n"
     ]
    },
    {
     "name": "stderr",
     "output_type": "stream",
     "text": [
      " 68%|██████▊   | 335021/492864 [31:13<14:54, 176.45it/s]"
     ]
    },
    {
     "name": "stdout",
     "output_type": "stream",
     "text": [
      "Cls Train Epoch [02/2] Iter [334999/492864]67.970% Loss: 0.0917\n"
     ]
    },
    {
     "name": "stderr",
     "output_type": "stream",
     "text": [
      " 69%|██████▉   | 340048/492864 [31:45<12:28, 204.16it/s]"
     ]
    },
    {
     "name": "stdout",
     "output_type": "stream",
     "text": [
      "Cls Train Epoch [02/2] Iter [339999/492864]68.984% Loss: 0.0916\n"
     ]
    },
    {
     "name": "stderr",
     "output_type": "stream",
     "text": [
      " 70%|███████   | 345036/492864 [32:07<06:51, 359.46it/s]"
     ]
    },
    {
     "name": "stdout",
     "output_type": "stream",
     "text": [
      "Cls Train Epoch [02/2] Iter [344999/492864]69.999% Loss: 0.0916\n"
     ]
    },
    {
     "name": "stderr",
     "output_type": "stream",
     "text": [
      " 71%|███████   | 350017/492864 [32:32<12:34, 189.29it/s]"
     ]
    },
    {
     "name": "stdout",
     "output_type": "stream",
     "text": [
      "Cls Train Epoch [02/2] Iter [349999/492864]71.013% Loss: 0.0916\n"
     ]
    },
    {
     "name": "stderr",
     "output_type": "stream",
     "text": [
      " 72%|███████▏  | 355002/492864 [32:57<15:51, 144.82it/s]"
     ]
    },
    {
     "name": "stdout",
     "output_type": "stream",
     "text": [
      "Cls Train Epoch [02/2] Iter [354999/492864]72.028% Loss: 0.0916\n"
     ]
    },
    {
     "name": "stderr",
     "output_type": "stream",
     "text": [
      " 73%|███████▎  | 360022/492864 [33:22<16:50, 131.51it/s]"
     ]
    },
    {
     "name": "stdout",
     "output_type": "stream",
     "text": [
      "Cls Train Epoch [02/2] Iter [359999/492864]73.042% Loss: 0.0916\n"
     ]
    },
    {
     "name": "stderr",
     "output_type": "stream",
     "text": [
      " 74%|███████▍  | 365036/492864 [33:50<10:38, 200.19it/s]"
     ]
    },
    {
     "name": "stdout",
     "output_type": "stream",
     "text": [
      "Cls Train Epoch [02/2] Iter [364999/492864]74.057% Loss: 0.0916\n"
     ]
    },
    {
     "name": "stderr",
     "output_type": "stream",
     "text": [
      " 75%|███████▌  | 370017/492864 [34:23<14:33, 140.66it/s]"
     ]
    },
    {
     "name": "stdout",
     "output_type": "stream",
     "text": [
      "Cls Train Epoch [02/2] Iter [369999/492864]75.071% Loss: 0.0916\n"
     ]
    },
    {
     "name": "stderr",
     "output_type": "stream",
     "text": [
      " 76%|███████▌  | 375056/492864 [34:50<07:09, 274.24it/s]"
     ]
    },
    {
     "name": "stdout",
     "output_type": "stream",
     "text": [
      "Cls Train Epoch [02/2] Iter [374999/492864]76.086% Loss: 0.0916\n"
     ]
    },
    {
     "name": "stderr",
     "output_type": "stream",
     "text": [
      " 77%|███████▋  | 380012/492864 [35:22<18:41, 100.61it/s]"
     ]
    },
    {
     "name": "stdout",
     "output_type": "stream",
     "text": [
      "Cls Train Epoch [02/2] Iter [379999/492864]77.100% Loss: 0.0916\n"
     ]
    },
    {
     "name": "stderr",
     "output_type": "stream",
     "text": [
      " 78%|███████▊  | 385037/492864 [35:51<09:59, 179.87it/s]"
     ]
    },
    {
     "name": "stdout",
     "output_type": "stream",
     "text": [
      "Cls Train Epoch [02/2] Iter [384999/492864]78.115% Loss: 0.0916\n"
     ]
    },
    {
     "name": "stderr",
     "output_type": "stream",
     "text": [
      " 79%|███████▉  | 390024/492864 [36:15<13:42, 125.03it/s]"
     ]
    },
    {
     "name": "stdout",
     "output_type": "stream",
     "text": [
      "Cls Train Epoch [02/2] Iter [389999/492864]79.129% Loss: 0.0916\n"
     ]
    },
    {
     "name": "stderr",
     "output_type": "stream",
     "text": [
      " 80%|████████  | 395027/492864 [36:41<08:35, 189.67it/s]"
     ]
    },
    {
     "name": "stdout",
     "output_type": "stream",
     "text": [
      "Cls Train Epoch [02/2] Iter [394999/492864]80.144% Loss: 0.0915\n"
     ]
    },
    {
     "name": "stderr",
     "output_type": "stream",
     "text": [
      " 81%|████████  | 400015/492864 [37:11<09:19, 165.97it/s]"
     ]
    },
    {
     "name": "stdout",
     "output_type": "stream",
     "text": [
      "Cls Train Epoch [02/2] Iter [399999/492864]81.158% Loss: 0.0915\n"
     ]
    },
    {
     "name": "stderr",
     "output_type": "stream",
     "text": [
      " 82%|████████▏ | 405017/492864 [37:38<07:59, 183.11it/s]"
     ]
    },
    {
     "name": "stdout",
     "output_type": "stream",
     "text": [
      "Cls Train Epoch [02/2] Iter [404999/492864]82.173% Loss: 0.0915\n"
     ]
    },
    {
     "name": "stderr",
     "output_type": "stream",
     "text": [
      " 83%|████████▎ | 410016/492864 [38:14<15:33, 88.74it/s] "
     ]
    },
    {
     "name": "stdout",
     "output_type": "stream",
     "text": [
      "Cls Train Epoch [02/2] Iter [409999/492864]83.187% Loss: 0.0915\n"
     ]
    },
    {
     "name": "stderr",
     "output_type": "stream",
     "text": [
      " 84%|████████▍ | 415034/492864 [38:50<05:11, 249.78it/s]"
     ]
    },
    {
     "name": "stdout",
     "output_type": "stream",
     "text": [
      "Cls Train Epoch [02/2] Iter [414999/492864]84.202% Loss: 0.0915\n"
     ]
    },
    {
     "name": "stderr",
     "output_type": "stream",
     "text": [
      " 85%|████████▌ | 420048/492864 [39:14<04:24, 275.72it/s]"
     ]
    },
    {
     "name": "stdout",
     "output_type": "stream",
     "text": [
      "Cls Train Epoch [02/2] Iter [419999/492864]85.216% Loss: 0.0915\n"
     ]
    },
    {
     "name": "stderr",
     "output_type": "stream",
     "text": [
      " 86%|████████▌ | 425013/492864 [39:45<05:03, 223.57it/s]"
     ]
    },
    {
     "name": "stdout",
     "output_type": "stream",
     "text": [
      "Cls Train Epoch [02/2] Iter [424999/492864]86.230% Loss: 0.0915\n"
     ]
    },
    {
     "name": "stderr",
     "output_type": "stream",
     "text": [
      " 87%|████████▋ | 430049/492864 [40:10<03:58, 263.57it/s]"
     ]
    },
    {
     "name": "stdout",
     "output_type": "stream",
     "text": [
      "Cls Train Epoch [02/2] Iter [429999/492864]87.245% Loss: 0.0915\n"
     ]
    },
    {
     "name": "stderr",
     "output_type": "stream",
     "text": [
      " 88%|████████▊ | 435019/492864 [40:34<04:52, 197.54it/s]"
     ]
    },
    {
     "name": "stdout",
     "output_type": "stream",
     "text": [
      "Cls Train Epoch [02/2] Iter [434999/492864]88.259% Loss: 0.0915\n"
     ]
    },
    {
     "name": "stderr",
     "output_type": "stream",
     "text": [
      " 89%|████████▉ | 440009/492864 [41:06<06:09, 143.19it/s]"
     ]
    },
    {
     "name": "stdout",
     "output_type": "stream",
     "text": [
      "Cls Train Epoch [02/2] Iter [439999/492864]89.274% Loss: 0.0915\n"
     ]
    },
    {
     "name": "stderr",
     "output_type": "stream",
     "text": [
      " 90%|█████████ | 445043/492864 [41:32<03:23, 234.65it/s]"
     ]
    },
    {
     "name": "stdout",
     "output_type": "stream",
     "text": [
      "Cls Train Epoch [02/2] Iter [444999/492864]90.288% Loss: 0.0915\n"
     ]
    },
    {
     "name": "stderr",
     "output_type": "stream",
     "text": [
      " 91%|█████████▏| 450039/492864 [41:57<05:20, 133.51it/s]"
     ]
    },
    {
     "name": "stdout",
     "output_type": "stream",
     "text": [
      "Cls Train Epoch [02/2] Iter [449999/492864]91.303% Loss: 0.0915\n"
     ]
    },
    {
     "name": "stderr",
     "output_type": "stream",
     "text": [
      " 92%|█████████▏| 455021/492864 [42:27<03:59, 158.14it/s]"
     ]
    },
    {
     "name": "stdout",
     "output_type": "stream",
     "text": [
      "Cls Train Epoch [02/2] Iter [454999/492864]92.317% Loss: 0.0915\n"
     ]
    },
    {
     "name": "stderr",
     "output_type": "stream",
     "text": [
      " 93%|█████████▎| 460036/492864 [42:55<02:29, 219.22it/s]"
     ]
    },
    {
     "name": "stdout",
     "output_type": "stream",
     "text": [
      "Cls Train Epoch [02/2] Iter [459999/492864]93.332% Loss: 0.0915\n"
     ]
    },
    {
     "name": "stderr",
     "output_type": "stream",
     "text": [
      " 94%|█████████▍| 465052/492864 [43:19<02:33, 181.36it/s]"
     ]
    },
    {
     "name": "stdout",
     "output_type": "stream",
     "text": [
      "Cls Train Epoch [02/2] Iter [464999/492864]94.346% Loss: 0.0915\n"
     ]
    },
    {
     "name": "stderr",
     "output_type": "stream",
     "text": [
      " 95%|█████████▌| 470030/492864 [43:49<01:39, 230.64it/s]"
     ]
    },
    {
     "name": "stdout",
     "output_type": "stream",
     "text": [
      "Cls Train Epoch [02/2] Iter [469999/492864]95.361% Loss: 0.0915\n"
     ]
    },
    {
     "name": "stderr",
     "output_type": "stream",
     "text": [
      " 96%|█████████▋| 475035/492864 [44:15<01:14, 238.86it/s]"
     ]
    },
    {
     "name": "stdout",
     "output_type": "stream",
     "text": [
      "Cls Train Epoch [02/2] Iter [474999/492864]96.375% Loss: 0.0915\n"
     ]
    },
    {
     "name": "stderr",
     "output_type": "stream",
     "text": [
      " 97%|█████████▋| 480020/492864 [44:39<01:10, 183.42it/s]"
     ]
    },
    {
     "name": "stdout",
     "output_type": "stream",
     "text": [
      "Cls Train Epoch [02/2] Iter [479999/492864]97.390% Loss: 0.0915\n"
     ]
    },
    {
     "name": "stderr",
     "output_type": "stream",
     "text": [
      " 98%|█████████▊| 485022/492864 [45:08<00:38, 201.13it/s]"
     ]
    },
    {
     "name": "stdout",
     "output_type": "stream",
     "text": [
      "Cls Train Epoch [02/2] Iter [484999/492864]98.404% Loss: 0.0915\n"
     ]
    },
    {
     "name": "stderr",
     "output_type": "stream",
     "text": [
      " 99%|█████████▉| 490065/492864 [45:35<00:09, 305.65it/s]"
     ]
    },
    {
     "name": "stdout",
     "output_type": "stream",
     "text": [
      "Cls Train Epoch [02/2] Iter [489999/492864]99.419% Loss: 0.0915\n"
     ]
    },
    {
     "name": "stderr",
     "output_type": "stream",
     "text": [
      "100%|██████████| 492864/492864 [45:53<00:00, 179.01it/s]\n"
     ]
    }
   ],
   "source": [
    "# with axis one normalised without sigmoid  \n",
    "from tqdm import tqdm\n",
    "\n",
    "nepoch_cls = 2\n",
    "\n",
    "for epoch in range(nepoch_cls):\n",
    "    model.train()\n",
    "    loss_epoch = 0\n",
    "    preds_all = []\n",
    "    gt_all = []\n",
    "    for ite, (in_feat, in_label)  in enumerate(tqdm(dataloader)):\n",
    "#         import pdb; pdb.set_trace()\n",
    "        \n",
    "        in_feat = in_feat.cuda()\n",
    "        in_label = in_label.cuda()\n",
    "        preds = model(feats=in_feat, classifier_only=True)\n",
    "\n",
    "        loss = criterion(preds, in_label)\n",
    "\n",
    "        loss_epoch+=loss.item()\n",
    "        optimizer.zero_grad()\n",
    "        loss.backward()\n",
    "        optimizer.step()\n",
    "\n",
    "        if ite % 5000 == 4999:\n",
    "            print(f'Cls Train Epoch [{epoch+1:02}/{nepoch_cls}] Iter [{ite:05}/{len(dataloader)}]{ite/len(dataloader) * 100:02.3f}% Loss: {loss_epoch/ite :0.4f}')\n",
    "#             val(dataloaderval, model, criterion, epoch, verbose=f\"val\")\n",
    "\n",
    "torch.save({'state_dict': model.state_dict(), 'epoch': epoch}, f\"coco_{split}_fc_1024_300.pth\")"
   ]
  },
  {
   "cell_type": "code",
   "execution_count": null,
   "metadata": {},
   "outputs": [],
   "source": []
  },
  {
   "cell_type": "code",
   "execution_count": 8,
   "metadata": {},
   "outputs": [],
   "source": [
    "checkpoint = torch.load(\"fc_1024_300.pth\")\n",
    "#     {'state_dict': model.state_dict(), 'epoch': epoch}, f\"dictionary_latest.pth\")"
   ]
  },
  {
   "cell_type": "code",
   "execution_count": 10,
   "metadata": {},
   "outputs": [
    {
     "data": {
      "text/plain": [
       "odict_keys(['fc1.weight', 'fc1.bias'])"
      ]
     },
     "execution_count": 10,
     "metadata": {},
     "output_type": "execute_result"
    }
   ],
   "source": [
    "checkpoint['state_dict'].keys()"
   ]
  },
  {
   "cell_type": "code",
   "execution_count": 11,
   "metadata": {},
   "outputs": [
    {
     "data": {
      "text/plain": [
       "IncompatibleKeys(missing_keys=[], unexpected_keys=[])"
      ]
     },
     "execution_count": 11,
     "metadata": {},
     "output_type": "execute_result"
    }
   ],
   "source": [
    "model.load_state_dict(checkpoint['state_dict'])"
   ]
  },
  {
   "cell_type": "code",
   "execution_count": 12,
   "metadata": {},
   "outputs": [
    {
     "data": {
      "text/plain": [
       "odict_keys(['fc1.weight', 'fc1.bias'])"
      ]
     },
     "execution_count": 12,
     "metadata": {},
     "output_type": "execute_result"
    }
   ],
   "source": [
    "checkpoint['state_dict'].keys()"
   ]
  },
  {
   "cell_type": "code",
   "execution_count": 13,
   "metadata": {},
   "outputs": [
    {
     "data": {
      "text/plain": [
       "odict_keys(['fc1.weight', 'fc1.bias'])"
      ]
     },
     "execution_count": 13,
     "metadata": {},
     "output_type": "execute_result"
    }
   ],
   "source": [
    "model.state_dict().keys()"
   ]
  },
  {
   "cell_type": "code",
   "execution_count": 14,
   "metadata": {},
   "outputs": [
    {
     "ename": "SyntaxError",
     "evalue": "invalid syntax (<ipython-input-14-3c285225aa88>, line 1)",
     "output_type": "error",
     "traceback": [
      "\u001b[0;36m  File \u001b[0;32m\"<ipython-input-14-3c285225aa88>\"\u001b[0;36m, line \u001b[0;32m1\u001b[0m\n\u001b[0;31m    [val sigmoid True axis-1 norm] 0: 0.9997\u001b[0m\n\u001b[0m               ^\u001b[0m\n\u001b[0;31mSyntaxError\u001b[0m\u001b[0;31m:\u001b[0m invalid syntax\n"
     ]
    }
   ],
   "source": [
    "[val sigmoid True axis-1 norm] 0: 0.9997\n",
    "[val sigmoid True axis-1 norm] 1: 0.8633\n",
    "[val sigmoid True axis-1 norm] 2: 0.0000\n",
    "[val sigmoid True axis-1 norm] 3: 0.0000\n",
    "\n",
    "------------------------\n",
    "[val sigmoid True axis-1 norm] Mean all: 0.4657\n",
    "[val sigmoid True axis-1 norm] Mean fb: 0.2878\n"
   ]
  },
  {
   "cell_type": "code",
   "execution_count": null,
   "metadata": {},
   "outputs": [],
   "source": []
  },
  {
   "cell_type": "code",
   "execution_count": null,
   "metadata": {},
   "outputs": [],
   "source": [
    "[val sigmoid False axis-1 norm] 0: 0.9998\n",
    "[val sigmoid False axis-1 norm] 1: 0.8924\n",
    "[val sigmoid False axis-1 norm] 2: 0.0005\n",
    "[val sigmoid False axis-1 norm] 3: 0.0000\n",
    "\n",
    "------------------------\n",
    "[val sigmoid False axis-1 norm] Mean all: 0.4732\n",
    "[val sigmoid False axis-1 norm] Mean fb: 0.2976"
   ]
  },
  {
   "cell_type": "code",
   "execution_count": null,
   "metadata": {},
   "outputs": [],
   "source": []
  },
  {
   "cell_type": "code",
   "execution_count": null,
   "metadata": {},
   "outputs": [],
   "source": [
    "[val sigmoid False axis-0 norm] 0: 0.7919\n",
    "[val sigmoid False axis-0 norm] 1: 0.6295\n",
    "[val sigmoid False axis-0 norm] 2: 0.5604\n",
    "[val sigmoid False axis-0 norm] 3: 0.4321\n",
    "\n",
    "------------------------\n",
    "[val sigmoid False axis-0 norm] Mean all: 0.6035\n"
   ]
  },
  {
   "cell_type": "code",
   "execution_count": null,
   "metadata": {},
   "outputs": [],
   "source": []
  },
  {
   "cell_type": "code",
   "execution_count": null,
   "metadata": {},
   "outputs": [],
   "source": [
    "[val sigmoid True axis-0 norm] 0: 0.9347\n",
    "[val sigmoid True axis-0 norm] 1: 0.9969\n",
    "[val sigmoid True axis-0 norm] 2: 0.9303\n",
    "[val sigmoid True axis-0 norm] 3: 0.0000\n",
    "\n",
    "------------------------\n",
    "[val sigmoid True axis-0 norm] Mean all: 0.7155\n"
   ]
  },
  {
   "cell_type": "code",
   "execution_count": null,
   "metadata": {},
   "outputs": [],
   "source": []
  }
 ],
 "metadata": {
  "kernelspec": {
   "display_name": "Python [conda env:zsd]",
   "language": "python",
   "name": "conda-env-zsd-py"
  },
  "language_info": {
   "codemirror_mode": {
    "name": "ipython",
    "version": 3
   },
   "file_extension": ".py",
   "mimetype": "text/x-python",
   "name": "python",
   "nbconvert_exporter": "python",
   "pygments_lexer": "ipython3",
   "version": "3.7.5"
  }
 },
 "nbformat": 4,
 "nbformat_minor": 2
}
